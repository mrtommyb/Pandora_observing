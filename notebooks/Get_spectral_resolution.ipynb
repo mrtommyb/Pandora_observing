{
 "cells": [
  {
   "cell_type": "code",
   "execution_count": 7,
   "id": "analyzed-lexington",
   "metadata": {},
   "outputs": [],
   "source": [
    "import numpy as np\n",
    "import matplotlib.pyplot as plt"
   ]
  },
  {
   "cell_type": "markdown",
   "id": "impaired-brook",
   "metadata": {},
   "source": [
    "Data is from Brian Bauman at LLNL, via Jay Bixler.\n",
    "Model is from 2/1/2021"
   ]
  },
  {
   "cell_type": "code",
   "execution_count": 8,
   "id": "unusual-hello",
   "metadata": {},
   "outputs": [],
   "source": [
    "data = np.array([\n",
    "    [9.000000E-01,    -1.868722E+00],\n",
    "    [9.090000E-01,    -1.809170E+00],\n",
    "    [9.180000E-01,    -1.750975E+00],\n",
    "    [9.270000E-01,    -1.694078E+00],\n",
    "    [9.360000E-01,    -1.638421E+00],\n",
    "    [9.450000E-01,    -1.583950E+00],\n",
    "    [9.540000E-01,    -1.530615E+00],\n",
    "    [9.630000E-01,    -1.478365E+00],\n",
    "    [9.720000E-01,    -1.427156E+00],\n",
    "    [9.810000E-01,    -1.376943E+00],\n",
    "    [9.900000E-01,    -1.327682E+00],\n",
    "    [9.990000E-01,    -1.279336E+00],\n",
    "    [1.008000E+00,    -1.231864E+00],\n",
    "    [1.017000E+00,    -1.185231E+00],\n",
    "    [1.026000E+00,    -1.139402E+00],\n",
    "    [1.035000E+00,    -1.094343E+00],\n",
    "    [1.044000E+00,    -1.050023E+00],\n",
    "    [1.053000E+00,    -1.006411E+00],\n",
    "    [1.062000E+00,    -9.634794E-01],\n",
    "    [1.071000E+00,    -9.211990E-01],\n",
    "    [1.080000E+00,    -8.795436E-01],\n",
    "    [1.089000E+00,    -8.384879E-01],\n",
    "    [1.098000E+00,    -7.980076E-01],\n",
    "    [1.107000E+00,    -7.580792E-01],\n",
    "    [1.116000E+00,    -7.186805E-01],\n",
    "    [1.125000E+00,    -6.797900E-01],\n",
    "    [1.134000E+00,    -6.413872E-01],\n",
    "    [1.143000E+00,    -6.034522E-01],\n",
    "    [1.152000E+00,    -5.659662E-01],\n",
    "    [1.161000E+00,    -5.289111E-01],\n",
    "    [1.170000E+00,    -4.922692E-01],\n",
    "    [1.179000E+00,    -4.560240E-01],\n",
    "    [1.188000E+00,    -4.201591E-01],\n",
    "    [1.197000E+00,    -3.846591E-01],\n",
    "    [1.206000E+00,    -3.495091E-01],\n",
    "    [1.215000E+00,    -3.146947E-01],\n",
    "    [1.224000E+00,    -2.802021E-01],\n",
    "    [1.233000E+00,    -2.460180E-01],\n",
    "    [1.242000E+00,    -2.121295E-01],\n",
    "    [1.251000E+00,    -1.785244E-01],\n",
    "    [1.260000E+00,    -1.451906E-01],\n",
    "    [1.269000E+00,    -1.121168E-01],\n",
    "    [1.278000E+00,    -7.929187E-02],\n",
    "    [1.287000E+00,    -4.670512E-02],\n",
    "    [1.296000E+00,    -1.434627E-02],\n",
    "    [1.305000E+00,     1.779464E-02],\n",
    "    [1.314000E+00,     4.972720E-02],\n",
    "    [1.323000E+00,     8.146068E-02],\n",
    "    [1.332000E+00,     1.130040E-01],\n",
    "    [1.341000E+00,     1.443659E-01],\n",
    "    [1.350000E+00,     1.755547E-01],\n",
    "    [1.359000E+00,     2.065785E-01],\n",
    "    [1.368000E+00,     2.374451E-01],\n",
    "    [1.377000E+00,     2.681621E-01],\n",
    "    [1.386000E+00,     2.987368E-01],\n",
    "    [1.395000E+00,     3.291762E-01],\n",
    "    [1.404000E+00,     3.594873E-01],\n",
    "    [1.413000E+00,     3.896767E-01],\n",
    "    [1.422000E+00,     4.197509E-01],\n",
    "    [1.431000E+00,     4.497160E-01],\n",
    "    [1.440000E+00,     4.795780E-01],\n",
    "    [1.449000E+00,     5.093430E-01],\n",
    "    [1.458000E+00,     5.390165E-01],\n",
    "    [1.467000E+00,     5.686040E-01],\n",
    "    [1.476000E+00,     5.981110E-01],\n",
    "    [1.485000E+00,     6.275425E-01],\n",
    "    [1.494000E+00,     6.569036E-01],\n",
    "    [1.503000E+00,     6.861993E-01],\n",
    "    [1.512000E+00,     7.154341E-01],\n",
    "    [1.521000E+00,     7.446128E-01],\n",
    "    [1.530000E+00,     7.737399E-01],\n",
    "    [1.539000E+00,     8.028196E-01],\n",
    "    [1.548000E+00,     8.318561E-01],\n",
    "    [1.557000E+00,     8.608537E-01],\n",
    "    [1.566000E+00,     8.898163E-01],\n",
    "    [1.575000E+00,     9.187478E-01],\n",
    "    [1.584000E+00,     9.476519E-01],\n",
    "    [1.593000E+00,     9.765324E-01],\n",
    "    [1.602000E+00,     1.005393E+00],\n",
    "    [1.611000E+00,     1.034237E+00],\n",
    "    [1.620000E+00,     1.063067E+00],\n",
    "    [1.629000E+00,     1.091888E+00],\n",
    "    [1.638000E+00,     1.120702E+00],\n",
    "    [1.647000E+00,     1.149512E+00],\n",
    "    [1.656000E+00,     1.178322E+00],\n",
    "    [1.665000E+00,     1.207135E+00],\n",
    "    [1.674000E+00,     1.235953E+00],\n",
    "    [1.683000E+00,     1.264779E+00],\n",
    "    [1.692000E+00,     1.293616E+00],\n",
    "    [1.701000E+00,     1.322466E+00],\n",
    "    [1.710000E+00,     1.351333E+00],\n",
    "    [1.719000E+00,     1.380219E+00],\n",
    "    [1.728000E+00,     1.409127E+00],\n",
    "    [1.737000E+00,     1.438058E+00],\n",
    "    [1.746000E+00,     1.467015E+00],\n",
    "    [1.755000E+00,     1.496001E+00],\n",
    "    [1.764000E+00,     1.525017E+00],\n",
    "    [1.773000E+00,     1.554067E+00],\n",
    "    [1.782000E+00,     1.583152E+00],\n",
    "    [1.791000E+00,     1.612274E+00],\n",
    "    [1.800000E+00,     1.641436E+00],\n",
    "])\n"
   ]
  },
  {
   "cell_type": "code",
   "execution_count": 9,
   "id": "juvenile-default",
   "metadata": {},
   "outputs": [
    {
     "data": {
      "image/png": "[encoded data removed]",
      "text/plain": [
       "<Figure size 432x288 with 1 Axes>"
      ]
     },
     "metadata": {
      "needs_background": "light"
     },
     "output_type": "display_data"
    }
   ],
   "source": [
    "wavelen = data[:, 0]\n",
    "position = data[:, 1]\n",
    "\n",
    "plt.plot(wavelen[:-1], wavelen[:-1] /  (np.diff(wavelen) / np.diff(position * 1000 / 18 / 5)), '.-')\n",
    "plt.xlabel(\"$\\lambda$ ($\\mu$m)\")\n",
    "plt.ylabel(\"Resolving Power ($\\lambda /\\Delta\\lambda$)\")\n",
    "\n",
    "plt.savefig(\"Pandora_IR_R.png\", dpi=150)"
   ]
  },
  {
   "cell_type": "code",
   "execution_count": null,
   "id": "tropical-delicious",
   "metadata": {},
   "outputs": [],
   "source": []
  }
 ],
 "metadata": {
  "kernelspec": {
   "display_name": "Python 3",
   "language": "python",
   "name": "python3"
  },
  "language_info": {
   "codemirror_mode": {
    "name": "ipython",
    "version": 3
   },
   "file_extension": ".py",
   "mimetype": "text/x-python",
   "name": "python",
   "nbconvert_exporter": "python",
   "pygments_lexer": "ipython3",
   "version": "3.7.4"
  }
 },
 "nbformat": 4,
 "nbformat_minor": 5
}
